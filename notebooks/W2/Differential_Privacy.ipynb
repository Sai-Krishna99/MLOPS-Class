{
  "nbformat": 4,
  "nbformat_minor": 0,
  "metadata": {
    "colab": {
      "provenance": []
    },
    "kernelspec": {
      "name": "python3",
      "display_name": "Python 3"
    },
    "language_info": {
      "name": "python"
    }
  },
  "cells": [
    {
      "cell_type": "code",
      "execution_count": 2,
      "metadata": {
        "id": "ONsF1Xpm-Ade"
      },
      "outputs": [],
      "source": [
        "import tensorflow as tf\n",
        "tf.compat.v1.disable_v2_behavior()\n",
        "\n",
        "import numpy as np\n",
        "import warnings\n",
        "warnings.filterwarnings('ignore')\n",
        "tf.get_logger().setLevel('ERROR')"
      ]
    },
    {
      "cell_type": "code",
      "source": [
        "# !pip install tensorflow-privacy"
      ],
      "metadata": {
        "id": "d0bJufYO-FIu"
      },
      "execution_count": 2,
      "outputs": []
    },
    {
      "cell_type": "code",
      "source": [
        "import tensorflow_privacy\n",
        "\n",
        "from tensorflow_privacy.privacy.analysis import compute_dp_sgd_privacy\n",
        "from tensorflow_privacy.privacy.analysis.compute_dp_sgd_privacy_lib import compute_dp_sgd_privacy_statement"
      ],
      "metadata": {
        "id": "tOpI0BPQ-G8q"
      },
      "execution_count": 3,
      "outputs": []
    },
    {
      "cell_type": "code",
      "source": [
        "import pandas as pd\n",
        "df = pd.read_csv('athletes.csv')"
      ],
      "metadata": {
        "id": "ZvcBAm1p-K9o"
      },
      "execution_count": 4,
      "outputs": []
    },
    {
      "cell_type": "code",
      "source": [
        "df.head()"
      ],
      "metadata": {
        "colab": {
          "base_uri": "https://localhost:8080/",
          "height": 577
        },
        "id": "tM-gQUxU_HLZ",
        "outputId": "dad22234-9469-41ec-db88-8690a3ead054"
      },
      "execution_count": 5,
      "outputs": [
        {
          "output_type": "execute_result",
          "data": {
            "text/plain": [
              "   region  gender   age  height  weight  candj  snatch  deadlift  backsq  \\\n",
              "0     USA       1  30.0    71.0   200.0  235.0   175.0     385.0   315.0   \n",
              "1  Africa       1  28.0    70.0   176.0  187.0   134.0     335.0   254.0   \n",
              "2     USA       1  35.0    68.0   225.0  285.0   205.0     440.0   405.0   \n",
              "3     USA       1  36.0    71.0   199.0  267.0   212.0     485.0   390.0   \n",
              "4     USA       1  36.0    64.0   155.0  245.0   180.0     415.0   385.0   \n",
              "\n",
              "                                                 eat  ... eat_conv eat_cheat  \\\n",
              "0                      I eat whatever is convenient|  ...        1         0   \n",
              "1               I eat 1-3 full cheat meals per week|  ...        0         1   \n",
              "2  I eat quality foods but don't measure the amount|  ...        0         0   \n",
              "3  I eat quality foods but don't measure the amount|  ...        0         0   \n",
              "4                                I eat strict Paleo|  ...        0         0   \n",
              "\n",
              "  eat_quality eat_paleo  eat_weigh  deadlift_norm  candj_norm  snatch_norm  \\\n",
              "0           0         0          0       1.925000    1.175000     0.875000   \n",
              "1           0         0          0       1.903409    1.062500     0.761364   \n",
              "2           1         0          0       1.955556    1.266667     0.911111   \n",
              "3           1         0          0       2.437186    1.341709     1.065327   \n",
              "4           0         1          0       2.677419    1.580645     1.161290   \n",
              "\n",
              "   backsq_norm  total_lift  \n",
              "0     1.575000    5.550000  \n",
              "1     1.443182    5.170455  \n",
              "2     1.800000    5.933333  \n",
              "3     1.959799    6.804020  \n",
              "4     2.483871    7.903226  \n",
              "\n",
              "[5 rows x 51 columns]"
            ],
            "text/html": [
              "\n",
              "  <div id=\"df-84883713-d628-4489-af7f-da1b9c9f4204\">\n",
              "    <div class=\"colab-df-container\">\n",
              "      <div>\n",
              "<style scoped>\n",
              "    .dataframe tbody tr th:only-of-type {\n",
              "        vertical-align: middle;\n",
              "    }\n",
              "\n",
              "    .dataframe tbody tr th {\n",
              "        vertical-align: top;\n",
              "    }\n",
              "\n",
              "    .dataframe thead th {\n",
              "        text-align: right;\n",
              "    }\n",
              "</style>\n",
              "<table border=\"1\" class=\"dataframe\">\n",
              "  <thead>\n",
              "    <tr style=\"text-align: right;\">\n",
              "      <th></th>\n",
              "      <th>region</th>\n",
              "      <th>gender</th>\n",
              "      <th>age</th>\n",
              "      <th>height</th>\n",
              "      <th>weight</th>\n",
              "      <th>candj</th>\n",
              "      <th>snatch</th>\n",
              "      <th>deadlift</th>\n",
              "      <th>backsq</th>\n",
              "      <th>eat</th>\n",
              "      <th>...</th>\n",
              "      <th>eat_conv</th>\n",
              "      <th>eat_cheat</th>\n",
              "      <th>eat_quality</th>\n",
              "      <th>eat_paleo</th>\n",
              "      <th>eat_weigh</th>\n",
              "      <th>deadlift_norm</th>\n",
              "      <th>candj_norm</th>\n",
              "      <th>snatch_norm</th>\n",
              "      <th>backsq_norm</th>\n",
              "      <th>total_lift</th>\n",
              "    </tr>\n",
              "  </thead>\n",
              "  <tbody>\n",
              "    <tr>\n",
              "      <th>0</th>\n",
              "      <td>USA</td>\n",
              "      <td>1</td>\n",
              "      <td>30.0</td>\n",
              "      <td>71.0</td>\n",
              "      <td>200.0</td>\n",
              "      <td>235.0</td>\n",
              "      <td>175.0</td>\n",
              "      <td>385.0</td>\n",
              "      <td>315.0</td>\n",
              "      <td>I eat whatever is convenient|</td>\n",
              "      <td>...</td>\n",
              "      <td>1</td>\n",
              "      <td>0</td>\n",
              "      <td>0</td>\n",
              "      <td>0</td>\n",
              "      <td>0</td>\n",
              "      <td>1.925000</td>\n",
              "      <td>1.175000</td>\n",
              "      <td>0.875000</td>\n",
              "      <td>1.575000</td>\n",
              "      <td>5.550000</td>\n",
              "    </tr>\n",
              "    <tr>\n",
              "      <th>1</th>\n",
              "      <td>Africa</td>\n",
              "      <td>1</td>\n",
              "      <td>28.0</td>\n",
              "      <td>70.0</td>\n",
              "      <td>176.0</td>\n",
              "      <td>187.0</td>\n",
              "      <td>134.0</td>\n",
              "      <td>335.0</td>\n",
              "      <td>254.0</td>\n",
              "      <td>I eat 1-3 full cheat meals per week|</td>\n",
              "      <td>...</td>\n",
              "      <td>0</td>\n",
              "      <td>1</td>\n",
              "      <td>0</td>\n",
              "      <td>0</td>\n",
              "      <td>0</td>\n",
              "      <td>1.903409</td>\n",
              "      <td>1.062500</td>\n",
              "      <td>0.761364</td>\n",
              "      <td>1.443182</td>\n",
              "      <td>5.170455</td>\n",
              "    </tr>\n",
              "    <tr>\n",
              "      <th>2</th>\n",
              "      <td>USA</td>\n",
              "      <td>1</td>\n",
              "      <td>35.0</td>\n",
              "      <td>68.0</td>\n",
              "      <td>225.0</td>\n",
              "      <td>285.0</td>\n",
              "      <td>205.0</td>\n",
              "      <td>440.0</td>\n",
              "      <td>405.0</td>\n",
              "      <td>I eat quality foods but don't measure the amount|</td>\n",
              "      <td>...</td>\n",
              "      <td>0</td>\n",
              "      <td>0</td>\n",
              "      <td>1</td>\n",
              "      <td>0</td>\n",
              "      <td>0</td>\n",
              "      <td>1.955556</td>\n",
              "      <td>1.266667</td>\n",
              "      <td>0.911111</td>\n",
              "      <td>1.800000</td>\n",
              "      <td>5.933333</td>\n",
              "    </tr>\n",
              "    <tr>\n",
              "      <th>3</th>\n",
              "      <td>USA</td>\n",
              "      <td>1</td>\n",
              "      <td>36.0</td>\n",
              "      <td>71.0</td>\n",
              "      <td>199.0</td>\n",
              "      <td>267.0</td>\n",
              "      <td>212.0</td>\n",
              "      <td>485.0</td>\n",
              "      <td>390.0</td>\n",
              "      <td>I eat quality foods but don't measure the amount|</td>\n",
              "      <td>...</td>\n",
              "      <td>0</td>\n",
              "      <td>0</td>\n",
              "      <td>1</td>\n",
              "      <td>0</td>\n",
              "      <td>0</td>\n",
              "      <td>2.437186</td>\n",
              "      <td>1.341709</td>\n",
              "      <td>1.065327</td>\n",
              "      <td>1.959799</td>\n",
              "      <td>6.804020</td>\n",
              "    </tr>\n",
              "    <tr>\n",
              "      <th>4</th>\n",
              "      <td>USA</td>\n",
              "      <td>1</td>\n",
              "      <td>36.0</td>\n",
              "      <td>64.0</td>\n",
              "      <td>155.0</td>\n",
              "      <td>245.0</td>\n",
              "      <td>180.0</td>\n",
              "      <td>415.0</td>\n",
              "      <td>385.0</td>\n",
              "      <td>I eat strict Paleo|</td>\n",
              "      <td>...</td>\n",
              "      <td>0</td>\n",
              "      <td>0</td>\n",
              "      <td>0</td>\n",
              "      <td>1</td>\n",
              "      <td>0</td>\n",
              "      <td>2.677419</td>\n",
              "      <td>1.580645</td>\n",
              "      <td>1.161290</td>\n",
              "      <td>2.483871</td>\n",
              "      <td>7.903226</td>\n",
              "    </tr>\n",
              "  </tbody>\n",
              "</table>\n",
              "<p>5 rows × 51 columns</p>\n",
              "</div>\n",
              "      <button class=\"colab-df-convert\" onclick=\"convertToInteractive('df-84883713-d628-4489-af7f-da1b9c9f4204')\"\n",
              "              title=\"Convert this dataframe to an interactive table.\"\n",
              "              style=\"display:none;\">\n",
              "        \n",
              "  <svg xmlns=\"http://www.w3.org/2000/svg\" height=\"24px\"viewBox=\"0 0 24 24\"\n",
              "       width=\"24px\">\n",
              "    <path d=\"M0 0h24v24H0V0z\" fill=\"none\"/>\n",
              "    <path d=\"M18.56 5.44l.94 2.06.94-2.06 2.06-.94-2.06-.94-.94-2.06-.94 2.06-2.06.94zm-11 1L8.5 8.5l.94-2.06 2.06-.94-2.06-.94L8.5 2.5l-.94 2.06-2.06.94zm10 10l.94 2.06.94-2.06 2.06-.94-2.06-.94-.94-2.06-.94 2.06-2.06.94z\"/><path d=\"M17.41 7.96l-1.37-1.37c-.4-.4-.92-.59-1.43-.59-.52 0-1.04.2-1.43.59L10.3 9.45l-7.72 7.72c-.78.78-.78 2.05 0 2.83L4 21.41c.39.39.9.59 1.41.59.51 0 1.02-.2 1.41-.59l7.78-7.78 2.81-2.81c.8-.78.8-2.07 0-2.86zM5.41 20L4 18.59l7.72-7.72 1.47 1.35L5.41 20z\"/>\n",
              "  </svg>\n",
              "      </button>\n",
              "      \n",
              "  <style>\n",
              "    .colab-df-container {\n",
              "      display:flex;\n",
              "      flex-wrap:wrap;\n",
              "      gap: 12px;\n",
              "    }\n",
              "\n",
              "    .colab-df-convert {\n",
              "      background-color: #E8F0FE;\n",
              "      border: none;\n",
              "      border-radius: 50%;\n",
              "      cursor: pointer;\n",
              "      display: none;\n",
              "      fill: #1967D2;\n",
              "      height: 32px;\n",
              "      padding: 0 0 0 0;\n",
              "      width: 32px;\n",
              "    }\n",
              "\n",
              "    .colab-df-convert:hover {\n",
              "      background-color: #E2EBFA;\n",
              "      box-shadow: 0px 1px 2px rgba(60, 64, 67, 0.3), 0px 1px 3px 1px rgba(60, 64, 67, 0.15);\n",
              "      fill: #174EA6;\n",
              "    }\n",
              "\n",
              "    [theme=dark] .colab-df-convert {\n",
              "      background-color: #3B4455;\n",
              "      fill: #D2E3FC;\n",
              "    }\n",
              "\n",
              "    [theme=dark] .colab-df-convert:hover {\n",
              "      background-color: #434B5C;\n",
              "      box-shadow: 0px 1px 3px 1px rgba(0, 0, 0, 0.15);\n",
              "      filter: drop-shadow(0px 1px 2px rgba(0, 0, 0, 0.3));\n",
              "      fill: #FFFFFF;\n",
              "    }\n",
              "  </style>\n",
              "\n",
              "      <script>\n",
              "        const buttonEl =\n",
              "          document.querySelector('#df-84883713-d628-4489-af7f-da1b9c9f4204 button.colab-df-convert');\n",
              "        buttonEl.style.display =\n",
              "          google.colab.kernel.accessAllowed ? 'block' : 'none';\n",
              "\n",
              "        async function convertToInteractive(key) {\n",
              "          const element = document.querySelector('#df-84883713-d628-4489-af7f-da1b9c9f4204');\n",
              "          const dataTable =\n",
              "            await google.colab.kernel.invokeFunction('convertToInteractive',\n",
              "                                                     [key], {});\n",
              "          if (!dataTable) return;\n",
              "\n",
              "          const docLinkHtml = 'Like what you see? Visit the ' +\n",
              "            '<a target=\"_blank\" href=https://colab.research.google.com/notebooks/data_table.ipynb>data table notebook</a>'\n",
              "            + ' to learn more about interactive tables.';\n",
              "          element.innerHTML = '';\n",
              "          dataTable['output_type'] = 'display_data';\n",
              "          await google.colab.output.renderOutput(dataTable, element);\n",
              "          const docLink = document.createElement('div');\n",
              "          docLink.innerHTML = docLinkHtml;\n",
              "          element.appendChild(docLink);\n",
              "        }\n",
              "      </script>\n",
              "    </div>\n",
              "  </div>\n",
              "  "
            ]
          },
          "metadata": {},
          "execution_count": 5
        }
      ]
    },
    {
      "cell_type": "code",
      "source": [
        "drop_cols = ['eat', 'background', 'experience', 'schedule', 'howlong', 'height', 'weight', 'candj', 'snatch', 'deadlift',\n",
        "       'backsq', 'candj_norm', 'snatch_norm', 'backsq_norm', 'deadlift_norm']\n",
        "df.drop(drop_cols, axis=1, inplace=True)"
      ],
      "metadata": {
        "id": "eq0PicOHC9U2"
      },
      "execution_count": 6,
      "outputs": []
    },
    {
      "cell_type": "code",
      "source": [
        "df = pd.get_dummies(df, columns=['region'], dtype=int)\n"
      ],
      "metadata": {
        "id": "FmH68pLeDQ2f"
      },
      "execution_count": 7,
      "outputs": []
    },
    {
      "cell_type": "code",
      "source": [
        "df"
      ],
      "metadata": {
        "colab": {
          "base_uri": "https://localhost:8080/",
          "height": 505
        },
        "id": "TVJ37ZYzDQtX",
        "outputId": "4af775cd-21b7-4d35-a132-008500941b27"
      },
      "execution_count": 8,
      "outputs": [
        {
          "output_type": "execute_result",
          "data": {
            "text/plain": [
              "       gender   age        BMI  rec_sports  high_sports  col_sports  \\\n",
              "0           1  30.0  27.894029           1            1           1   \n",
              "1           1  28.0  25.253091           0            0           0   \n",
              "2           1  35.0  34.210754           0            1           0   \n",
              "3           1  36.0  27.754559           0            1           1   \n",
              "4           1  36.0  26.605395           1            1           1   \n",
              "...       ...   ...        ...         ...          ...         ...   \n",
              "29417       1  25.0  23.387806           0            0           0   \n",
              "29418       1  24.0  24.966124           1            1           1   \n",
              "29419       0  25.0  21.627611           1            1           1   \n",
              "29420       0  22.0  23.598381           1            1           1   \n",
              "29421       0  19.0  28.318057           0            1           1   \n",
              "\n",
              "       pro_sports  no_bg  exp_coach  exp_alone  ...  eat_paleo  eat_weigh  \\\n",
              "0               0      0          0          1  ...          0          0   \n",
              "1               0      1          1          0  ...          0          0   \n",
              "2               0      0          1          0  ...          0          0   \n",
              "3               0      0          1          0  ...          0          0   \n",
              "4               0      0          0          1  ...          1          0   \n",
              "...           ...    ...        ...        ...  ...        ...        ...   \n",
              "29417           0      1          1          0  ...          0          0   \n",
              "29418           0      0          1          0  ...          0          0   \n",
              "29419           0      0          0          1  ...          0          0   \n",
              "29420           0      0          1          0  ...          0          0   \n",
              "29421           0      0          1          0  ...          0          0   \n",
              "\n",
              "       total_lift  region_Africa  region_Asia  region_Australia  \\\n",
              "0        5.550000              0            0                 0   \n",
              "1        5.170455              1            0                 0   \n",
              "2        5.933333              0            0                 0   \n",
              "3        6.804020              0            0                 0   \n",
              "4        7.903226              0            0                 0   \n",
              "...           ...            ...          ...               ...   \n",
              "29417    4.723926              0            0                 0   \n",
              "29418    5.183908              0            0                 1   \n",
              "29419    4.896825              0            0                 0   \n",
              "29420    2.873563              0            0                 0   \n",
              "29421    4.406897              0            0                 0   \n",
              "\n",
              "       region_Canada  region_Europe  region_Latin America  region_USA  \n",
              "0                  0              0                     0           1  \n",
              "1                  0              0                     0           0  \n",
              "2                  0              0                     0           1  \n",
              "3                  0              0                     0           1  \n",
              "4                  0              0                     0           1  \n",
              "...              ...            ...                   ...         ...  \n",
              "29417              0              0                     0           1  \n",
              "29418              0              0                     0           0  \n",
              "29419              0              0                     1           0  \n",
              "29420              0              0                     0           1  \n",
              "29421              0              0                     0           1  \n",
              "\n",
              "[29422 rows x 42 columns]"
            ],
            "text/html": [
              "\n",
              "  <div id=\"df-19eb158d-185d-4891-a899-b1b901c7ebaa\">\n",
              "    <div class=\"colab-df-container\">\n",
              "      <div>\n",
              "<style scoped>\n",
              "    .dataframe tbody tr th:only-of-type {\n",
              "        vertical-align: middle;\n",
              "    }\n",
              "\n",
              "    .dataframe tbody tr th {\n",
              "        vertical-align: top;\n",
              "    }\n",
              "\n",
              "    .dataframe thead th {\n",
              "        text-align: right;\n",
              "    }\n",
              "</style>\n",
              "<table border=\"1\" class=\"dataframe\">\n",
              "  <thead>\n",
              "    <tr style=\"text-align: right;\">\n",
              "      <th></th>\n",
              "      <th>gender</th>\n",
              "      <th>age</th>\n",
              "      <th>BMI</th>\n",
              "      <th>rec_sports</th>\n",
              "      <th>high_sports</th>\n",
              "      <th>col_sports</th>\n",
              "      <th>pro_sports</th>\n",
              "      <th>no_bg</th>\n",
              "      <th>exp_coach</th>\n",
              "      <th>exp_alone</th>\n",
              "      <th>...</th>\n",
              "      <th>eat_paleo</th>\n",
              "      <th>eat_weigh</th>\n",
              "      <th>total_lift</th>\n",
              "      <th>region_Africa</th>\n",
              "      <th>region_Asia</th>\n",
              "      <th>region_Australia</th>\n",
              "      <th>region_Canada</th>\n",
              "      <th>region_Europe</th>\n",
              "      <th>region_Latin America</th>\n",
              "      <th>region_USA</th>\n",
              "    </tr>\n",
              "  </thead>\n",
              "  <tbody>\n",
              "    <tr>\n",
              "      <th>0</th>\n",
              "      <td>1</td>\n",
              "      <td>30.0</td>\n",
              "      <td>27.894029</td>\n",
              "      <td>1</td>\n",
              "      <td>1</td>\n",
              "      <td>1</td>\n",
              "      <td>0</td>\n",
              "      <td>0</td>\n",
              "      <td>0</td>\n",
              "      <td>1</td>\n",
              "      <td>...</td>\n",
              "      <td>0</td>\n",
              "      <td>0</td>\n",
              "      <td>5.550000</td>\n",
              "      <td>0</td>\n",
              "      <td>0</td>\n",
              "      <td>0</td>\n",
              "      <td>0</td>\n",
              "      <td>0</td>\n",
              "      <td>0</td>\n",
              "      <td>1</td>\n",
              "    </tr>\n",
              "    <tr>\n",
              "      <th>1</th>\n",
              "      <td>1</td>\n",
              "      <td>28.0</td>\n",
              "      <td>25.253091</td>\n",
              "      <td>0</td>\n",
              "      <td>0</td>\n",
              "      <td>0</td>\n",
              "      <td>0</td>\n",
              "      <td>1</td>\n",
              "      <td>1</td>\n",
              "      <td>0</td>\n",
              "      <td>...</td>\n",
              "      <td>0</td>\n",
              "      <td>0</td>\n",
              "      <td>5.170455</td>\n",
              "      <td>1</td>\n",
              "      <td>0</td>\n",
              "      <td>0</td>\n",
              "      <td>0</td>\n",
              "      <td>0</td>\n",
              "      <td>0</td>\n",
              "      <td>0</td>\n",
              "    </tr>\n",
              "    <tr>\n",
              "      <th>2</th>\n",
              "      <td>1</td>\n",
              "      <td>35.0</td>\n",
              "      <td>34.210754</td>\n",
              "      <td>0</td>\n",
              "      <td>1</td>\n",
              "      <td>0</td>\n",
              "      <td>0</td>\n",
              "      <td>0</td>\n",
              "      <td>1</td>\n",
              "      <td>0</td>\n",
              "      <td>...</td>\n",
              "      <td>0</td>\n",
              "      <td>0</td>\n",
              "      <td>5.933333</td>\n",
              "      <td>0</td>\n",
              "      <td>0</td>\n",
              "      <td>0</td>\n",
              "      <td>0</td>\n",
              "      <td>0</td>\n",
              "      <td>0</td>\n",
              "      <td>1</td>\n",
              "    </tr>\n",
              "    <tr>\n",
              "      <th>3</th>\n",
              "      <td>1</td>\n",
              "      <td>36.0</td>\n",
              "      <td>27.754559</td>\n",
              "      <td>0</td>\n",
              "      <td>1</td>\n",
              "      <td>1</td>\n",
              "      <td>0</td>\n",
              "      <td>0</td>\n",
              "      <td>1</td>\n",
              "      <td>0</td>\n",
              "      <td>...</td>\n",
              "      <td>0</td>\n",
              "      <td>0</td>\n",
              "      <td>6.804020</td>\n",
              "      <td>0</td>\n",
              "      <td>0</td>\n",
              "      <td>0</td>\n",
              "      <td>0</td>\n",
              "      <td>0</td>\n",
              "      <td>0</td>\n",
              "      <td>1</td>\n",
              "    </tr>\n",
              "    <tr>\n",
              "      <th>4</th>\n",
              "      <td>1</td>\n",
              "      <td>36.0</td>\n",
              "      <td>26.605395</td>\n",
              "      <td>1</td>\n",
              "      <td>1</td>\n",
              "      <td>1</td>\n",
              "      <td>0</td>\n",
              "      <td>0</td>\n",
              "      <td>0</td>\n",
              "      <td>1</td>\n",
              "      <td>...</td>\n",
              "      <td>1</td>\n",
              "      <td>0</td>\n",
              "      <td>7.903226</td>\n",
              "      <td>0</td>\n",
              "      <td>0</td>\n",
              "      <td>0</td>\n",
              "      <td>0</td>\n",
              "      <td>0</td>\n",
              "      <td>0</td>\n",
              "      <td>1</td>\n",
              "    </tr>\n",
              "    <tr>\n",
              "      <th>...</th>\n",
              "      <td>...</td>\n",
              "      <td>...</td>\n",
              "      <td>...</td>\n",
              "      <td>...</td>\n",
              "      <td>...</td>\n",
              "      <td>...</td>\n",
              "      <td>...</td>\n",
              "      <td>...</td>\n",
              "      <td>...</td>\n",
              "      <td>...</td>\n",
              "      <td>...</td>\n",
              "      <td>...</td>\n",
              "      <td>...</td>\n",
              "      <td>...</td>\n",
              "      <td>...</td>\n",
              "      <td>...</td>\n",
              "      <td>...</td>\n",
              "      <td>...</td>\n",
              "      <td>...</td>\n",
              "      <td>...</td>\n",
              "      <td>...</td>\n",
              "    </tr>\n",
              "    <tr>\n",
              "      <th>29417</th>\n",
              "      <td>1</td>\n",
              "      <td>25.0</td>\n",
              "      <td>23.387806</td>\n",
              "      <td>0</td>\n",
              "      <td>0</td>\n",
              "      <td>0</td>\n",
              "      <td>0</td>\n",
              "      <td>1</td>\n",
              "      <td>1</td>\n",
              "      <td>0</td>\n",
              "      <td>...</td>\n",
              "      <td>0</td>\n",
              "      <td>0</td>\n",
              "      <td>4.723926</td>\n",
              "      <td>0</td>\n",
              "      <td>0</td>\n",
              "      <td>0</td>\n",
              "      <td>0</td>\n",
              "      <td>0</td>\n",
              "      <td>0</td>\n",
              "      <td>1</td>\n",
              "    </tr>\n",
              "    <tr>\n",
              "      <th>29418</th>\n",
              "      <td>1</td>\n",
              "      <td>24.0</td>\n",
              "      <td>24.966124</td>\n",
              "      <td>1</td>\n",
              "      <td>1</td>\n",
              "      <td>1</td>\n",
              "      <td>0</td>\n",
              "      <td>0</td>\n",
              "      <td>1</td>\n",
              "      <td>0</td>\n",
              "      <td>...</td>\n",
              "      <td>0</td>\n",
              "      <td>0</td>\n",
              "      <td>5.183908</td>\n",
              "      <td>0</td>\n",
              "      <td>0</td>\n",
              "      <td>1</td>\n",
              "      <td>0</td>\n",
              "      <td>0</td>\n",
              "      <td>0</td>\n",
              "      <td>0</td>\n",
              "    </tr>\n",
              "    <tr>\n",
              "      <th>29419</th>\n",
              "      <td>0</td>\n",
              "      <td>25.0</td>\n",
              "      <td>21.627611</td>\n",
              "      <td>1</td>\n",
              "      <td>1</td>\n",
              "      <td>1</td>\n",
              "      <td>0</td>\n",
              "      <td>0</td>\n",
              "      <td>0</td>\n",
              "      <td>1</td>\n",
              "      <td>...</td>\n",
              "      <td>0</td>\n",
              "      <td>0</td>\n",
              "      <td>4.896825</td>\n",
              "      <td>0</td>\n",
              "      <td>0</td>\n",
              "      <td>0</td>\n",
              "      <td>0</td>\n",
              "      <td>0</td>\n",
              "      <td>1</td>\n",
              "      <td>0</td>\n",
              "    </tr>\n",
              "    <tr>\n",
              "      <th>29420</th>\n",
              "      <td>0</td>\n",
              "      <td>22.0</td>\n",
              "      <td>23.598381</td>\n",
              "      <td>1</td>\n",
              "      <td>1</td>\n",
              "      <td>1</td>\n",
              "      <td>0</td>\n",
              "      <td>0</td>\n",
              "      <td>1</td>\n",
              "      <td>0</td>\n",
              "      <td>...</td>\n",
              "      <td>0</td>\n",
              "      <td>0</td>\n",
              "      <td>2.873563</td>\n",
              "      <td>0</td>\n",
              "      <td>0</td>\n",
              "      <td>0</td>\n",
              "      <td>0</td>\n",
              "      <td>0</td>\n",
              "      <td>0</td>\n",
              "      <td>1</td>\n",
              "    </tr>\n",
              "    <tr>\n",
              "      <th>29421</th>\n",
              "      <td>0</td>\n",
              "      <td>19.0</td>\n",
              "      <td>28.318057</td>\n",
              "      <td>0</td>\n",
              "      <td>1</td>\n",
              "      <td>1</td>\n",
              "      <td>0</td>\n",
              "      <td>0</td>\n",
              "      <td>1</td>\n",
              "      <td>0</td>\n",
              "      <td>...</td>\n",
              "      <td>0</td>\n",
              "      <td>0</td>\n",
              "      <td>4.406897</td>\n",
              "      <td>0</td>\n",
              "      <td>0</td>\n",
              "      <td>0</td>\n",
              "      <td>0</td>\n",
              "      <td>0</td>\n",
              "      <td>0</td>\n",
              "      <td>1</td>\n",
              "    </tr>\n",
              "  </tbody>\n",
              "</table>\n",
              "<p>29422 rows × 42 columns</p>\n",
              "</div>\n",
              "      <button class=\"colab-df-convert\" onclick=\"convertToInteractive('df-19eb158d-185d-4891-a899-b1b901c7ebaa')\"\n",
              "              title=\"Convert this dataframe to an interactive table.\"\n",
              "              style=\"display:none;\">\n",
              "        \n",
              "  <svg xmlns=\"http://www.w3.org/2000/svg\" height=\"24px\"viewBox=\"0 0 24 24\"\n",
              "       width=\"24px\">\n",
              "    <path d=\"M0 0h24v24H0V0z\" fill=\"none\"/>\n",
              "    <path d=\"M18.56 5.44l.94 2.06.94-2.06 2.06-.94-2.06-.94-.94-2.06-.94 2.06-2.06.94zm-11 1L8.5 8.5l.94-2.06 2.06-.94-2.06-.94L8.5 2.5l-.94 2.06-2.06.94zm10 10l.94 2.06.94-2.06 2.06-.94-2.06-.94-.94-2.06-.94 2.06-2.06.94z\"/><path d=\"M17.41 7.96l-1.37-1.37c-.4-.4-.92-.59-1.43-.59-.52 0-1.04.2-1.43.59L10.3 9.45l-7.72 7.72c-.78.78-.78 2.05 0 2.83L4 21.41c.39.39.9.59 1.41.59.51 0 1.02-.2 1.41-.59l7.78-7.78 2.81-2.81c.8-.78.8-2.07 0-2.86zM5.41 20L4 18.59l7.72-7.72 1.47 1.35L5.41 20z\"/>\n",
              "  </svg>\n",
              "      </button>\n",
              "      \n",
              "  <style>\n",
              "    .colab-df-container {\n",
              "      display:flex;\n",
              "      flex-wrap:wrap;\n",
              "      gap: 12px;\n",
              "    }\n",
              "\n",
              "    .colab-df-convert {\n",
              "      background-color: #E8F0FE;\n",
              "      border: none;\n",
              "      border-radius: 50%;\n",
              "      cursor: pointer;\n",
              "      display: none;\n",
              "      fill: #1967D2;\n",
              "      height: 32px;\n",
              "      padding: 0 0 0 0;\n",
              "      width: 32px;\n",
              "    }\n",
              "\n",
              "    .colab-df-convert:hover {\n",
              "      background-color: #E2EBFA;\n",
              "      box-shadow: 0px 1px 2px rgba(60, 64, 67, 0.3), 0px 1px 3px 1px rgba(60, 64, 67, 0.15);\n",
              "      fill: #174EA6;\n",
              "    }\n",
              "\n",
              "    [theme=dark] .colab-df-convert {\n",
              "      background-color: #3B4455;\n",
              "      fill: #D2E3FC;\n",
              "    }\n",
              "\n",
              "    [theme=dark] .colab-df-convert:hover {\n",
              "      background-color: #434B5C;\n",
              "      box-shadow: 0px 1px 3px 1px rgba(0, 0, 0, 0.15);\n",
              "      filter: drop-shadow(0px 1px 2px rgba(0, 0, 0, 0.3));\n",
              "      fill: #FFFFFF;\n",
              "    }\n",
              "  </style>\n",
              "\n",
              "      <script>\n",
              "        const buttonEl =\n",
              "          document.querySelector('#df-19eb158d-185d-4891-a899-b1b901c7ebaa button.colab-df-convert');\n",
              "        buttonEl.style.display =\n",
              "          google.colab.kernel.accessAllowed ? 'block' : 'none';\n",
              "\n",
              "        async function convertToInteractive(key) {\n",
              "          const element = document.querySelector('#df-19eb158d-185d-4891-a899-b1b901c7ebaa');\n",
              "          const dataTable =\n",
              "            await google.colab.kernel.invokeFunction('convertToInteractive',\n",
              "                                                     [key], {});\n",
              "          if (!dataTable) return;\n",
              "\n",
              "          const docLinkHtml = 'Like what you see? Visit the ' +\n",
              "            '<a target=\"_blank\" href=https://colab.research.google.com/notebooks/data_table.ipynb>data table notebook</a>'\n",
              "            + ' to learn more about interactive tables.';\n",
              "          element.innerHTML = '';\n",
              "          dataTable['output_type'] = 'display_data';\n",
              "          await google.colab.output.renderOutput(dataTable, element);\n",
              "          const docLink = document.createElement('div');\n",
              "          docLink.innerHTML = docLinkHtml;\n",
              "          element.appendChild(docLink);\n",
              "        }\n",
              "      </script>\n",
              "    </div>\n",
              "  </div>\n",
              "  "
            ]
          },
          "metadata": {},
          "execution_count": 8
        }
      ]
    },
    {
      "cell_type": "code",
      "source": [],
      "metadata": {
        "id": "d2oY_sWSDQj0"
      },
      "execution_count": 8,
      "outputs": []
    },
    {
      "cell_type": "code",
      "source": [],
      "metadata": {
        "id": "reofm9-6DPhi"
      },
      "execution_count": 8,
      "outputs": []
    },
    {
      "cell_type": "code",
      "source": [
        "from sklearn.model_selection import train_test_split\n",
        "X = df.drop('total_lift', axis = 1)\n",
        "y = df.total_lift\n",
        "X_train, X_test, y_train, y_test = train_test_split(X,y, test_size=0.3, random_state=123 )"
      ],
      "metadata": {
        "id": "BBHQfTIV_NRJ"
      },
      "execution_count": 9,
      "outputs": []
    },
    {
      "cell_type": "code",
      "source": [
        "y_train = np.array(y_train)\n",
        "y_test = np.array(y_test)\n",
        "X_test = np.array(X_test)\n",
        "X_train = np.array(X_train)"
      ],
      "metadata": {
        "id": "v9-9vINcBd9P"
      },
      "execution_count": 22,
      "outputs": []
    },
    {
      "cell_type": "code",
      "source": [
        "#define hyperparameters\n",
        "epochs = 10\n",
        "batch_size = 128"
      ],
      "metadata": {
        "id": "rWqJs3cd_uBs"
      },
      "execution_count": 23,
      "outputs": []
    },
    {
      "cell_type": "code",
      "source": [
        "l2_norm_clip = 1.5 #A value of 0 means that no noise is added to the model parameters\n",
        "noise_multiplier = 1.2 # A value of 0 means that no noise is added to the gradients\n",
        "num_microbatches = 1 #A value of 1 means that the gradients are computed using the entire training set\n",
        "learning_rate = 0.05 #A value of 0 means that the model parameters will not be updated\n",
        "\n",
        "if batch_size % num_microbatches != 0:\n",
        "  raise ValueError('Batch size should be an integer multiple of the number of microbatches')"
      ],
      "metadata": {
        "id": "QIMftF1PALkW"
      },
      "execution_count": 24,
      "outputs": []
    },
    {
      "cell_type": "code",
      "source": [
        "input_dim = X_train.shape[1]"
      ],
      "metadata": {
        "id": "ot9xL7c1AYcF"
      },
      "execution_count": 25,
      "outputs": []
    },
    {
      "cell_type": "code",
      "source": [
        "model = tf.keras.models.Sequential()\n",
        "# model.add(tf.keras.layers.Dense(units=64, activation='relu', input_shape=(input_dim,)))\n",
        "# model.add(tf.keras.layers.Dense(units=32, activation='relu'))\n",
        "model.add(tf.keras.layers.Dense(units=1, activation='linear'))"
      ],
      "metadata": {
        "id": "0ToWvxbOAQAW"
      },
      "execution_count": 26,
      "outputs": []
    },
    {
      "cell_type": "code",
      "source": [
        "optimizer = tensorflow_privacy.DPKerasSGDOptimizer(\n",
        "    l2_norm_clip=l2_norm_clip,\n",
        "    noise_multiplier=noise_multiplier,\n",
        "    num_microbatches=num_microbatches,\n",
        "    learning_rate=learning_rate)\n",
        "\n",
        "loss = tf.keras.losses.MeanSquaredError()\n"
      ],
      "metadata": {
        "id": "gNMVRT1eAqvw"
      },
      "execution_count": 27,
      "outputs": []
    },
    {
      "cell_type": "code",
      "source": [
        "model.compile(optimizer=optimizer, loss=loss, metrics=['mae'])\n",
        "\n",
        "model.fit(X_train, y_train,\n",
        "          epochs=epochs,\n",
        "          validation_data=(X_test, y_test),\n",
        "          batch_size=batch_size)"
      ],
      "metadata": {
        "colab": {
          "base_uri": "https://localhost:8080/"
        },
        "id": "7tAoI75bAvDd",
        "outputId": "f644d948-6b51-4f74-e88f-b4eb159de802"
      },
      "execution_count": 28,
      "outputs": [
        {
          "output_type": "stream",
          "name": "stdout",
          "text": [
            "Train on 20595 samples, validate on 8827 samples\n",
            "Epoch 1/10\n",
            "20595/20595 [==============================] - 0s 23us/sample - loss: 33.9726 - mean_absolute_error: 4.5824 - val_loss: 28.5415 - val_mean_absolute_error: 4.3605\n",
            "Epoch 2/10\n",
            "20595/20595 [==============================] - 0s 13us/sample - loss: 35.4633 - mean_absolute_error: 4.6875 - val_loss: 14.5296 - val_mean_absolute_error: 3.0246\n",
            "Epoch 3/10\n",
            "20595/20595 [==============================] - 0s 12us/sample - loss: 46.2428 - mean_absolute_error: 5.3897 - val_loss: 30.7093 - val_mean_absolute_error: 4.4361\n",
            "Epoch 4/10\n",
            "20595/20595 [==============================] - 0s 12us/sample - loss: 47.1954 - mean_absolute_error: 5.4687 - val_loss: 40.9487 - val_mean_absolute_error: 5.3103\n",
            "Epoch 5/10\n",
            "20595/20595 [==============================] - 0s 12us/sample - loss: 46.2939 - mean_absolute_error: 5.4230 - val_loss: 66.3209 - val_mean_absolute_error: 6.7666\n",
            "Epoch 6/10\n",
            "20595/20595 [==============================] - 0s 12us/sample - loss: 40.8916 - mean_absolute_error: 5.0853 - val_loss: 21.4769 - val_mean_absolute_error: 3.6872\n",
            "Epoch 7/10\n",
            "20595/20595 [==============================] - 0s 12us/sample - loss: 43.3652 - mean_absolute_error: 5.2384 - val_loss: 40.6595 - val_mean_absolute_error: 5.3154\n",
            "Epoch 8/10\n",
            "20595/20595 [==============================] - 0s 12us/sample - loss: 55.6333 - mean_absolute_error: 5.9507 - val_loss: 47.8503 - val_mean_absolute_error: 5.5492\n",
            "Epoch 9/10\n",
            "20595/20595 [==============================] - 0s 12us/sample - loss: 72.7495 - mean_absolute_error: 6.7135 - val_loss: 52.7177 - val_mean_absolute_error: 5.8928\n",
            "Epoch 10/10\n",
            "20595/20595 [==============================] - 0s 12us/sample - loss: 67.8314 - mean_absolute_error: 6.5346 - val_loss: 109.2355 - val_mean_absolute_error: 8.7961\n"
          ]
        },
        {
          "output_type": "execute_result",
          "data": {
            "text/plain": [
              "<keras.callbacks.History at 0x7f701a173a00>"
            ]
          },
          "metadata": {},
          "execution_count": 28
        }
      ]
    },
    {
      "cell_type": "code",
      "source": [
        "loss_dp, mae_dp = model.evaluate(X_test, y_test)\n",
        "\n",
        "# Print the performance measures\n",
        "print(\"Test Loss:\", loss_dp)\n",
        "print(\"Test MAE:\", mae_dp)"
      ],
      "metadata": {
        "colab": {
          "base_uri": "https://localhost:8080/"
        },
        "id": "KqwlK2VfbZ_0",
        "outputId": "f68b6400-7531-4759-9e88-7f9541a2748c"
      },
      "execution_count": 30,
      "outputs": [
        {
          "output_type": "stream",
          "name": "stdout",
          "text": [
            "Test Loss: 109.23550374675096\n",
            "Test MAE: 8.796069\n"
          ]
        }
      ]
    },
    {
      "cell_type": "code",
      "source": [
        "privacy_guarantee = compute_dp_sgd_privacy_statement(number_of_examples=X_train.shape[0],\n",
        "                                              batch_size=batch_size,\n",
        "                                              noise_multiplier=noise_multiplier,\n",
        "                                              num_epochs=epochs,\n",
        "                                              delta=1e-5)\n",
        "\n",
        "print(\"Privacy Guarantee Epsilon: \\n\", privacy_guarantee)"
      ],
      "metadata": {
        "colab": {
          "base_uri": "https://localhost:8080/"
        },
        "id": "8jfXmbojD-lg",
        "outputId": "8f5d1d96-8ba8-4d7f-aaa6-a3eb7fdf3561"
      },
      "execution_count": 18,
      "outputs": [
        {
          "output_type": "stream",
          "name": "stdout",
          "text": [
            "Privacy Guarantee Epsilon: \n",
            " DP-SGD performed over 20595 examples with 128 examples per iteration, noise\n",
            "multiplier 1.2 for 10 epochs with microbatching, and no bound on number of\n",
            "examples per user.\n",
            "\n",
            "This privacy guarantee protects the release of all model checkpoints in addition\n",
            "to the final model.\n",
            "\n",
            "Example-level DP with add-or-remove-one adjacency at delta = 1e-05 computed with\n",
            "RDP accounting:\n",
            "    Epsilon with each example occurring once per epoch:        37.721\n",
            "    Epsilon assuming Poisson sampling (*):                      6.999\n",
            "\n",
            "No user-level privacy guarantee is possible without a bound on the number of\n",
            "examples per user.\n",
            "\n",
            "(*) Poisson sampling is not usually done in training pipelines, but assuming\n",
            "that the data was randomly shuffled, it is believed the actual epsilon should be\n",
            "closer to this value than the conservative assumption of an arbitrary data\n",
            "order.\n",
            "\n"
          ]
        }
      ]
    },
    {
      "cell_type": "code",
      "source": [
        "tensorflow_privacy.compute_dp_sgd_privacy(n=X_train.shape[0],\n",
        "                                              batch_size=batch_size,\n",
        "                                              noise_multiplier=noise_multiplier,\n",
        "                                              epochs=epochs,\n",
        "                                              delta=1e-5)"
      ],
      "metadata": {
        "colab": {
          "base_uri": "https://localhost:8080/"
        },
        "id": "lDIBR50jFnh9",
        "outputId": "9e06adb7-f067-4ed8-d23b-e8023baf4eab"
      },
      "execution_count": 20,
      "outputs": [
        {
          "output_type": "stream",
          "name": "stderr",
          "text": [
            "WARNING:absl:`compute_dp_sgd_privacy` is deprecated. It does not account for doubling of sensitivity with microbatching, and assumes Poisson subsampling, which is rarely used in practice. Please use `compute_dp_sgd_privacy_statement`, which provides appropriate context for the guarantee. To compute epsilon under different assumptions than those in `compute_dp_sgd_privacy_statement`, call the `dp_accounting` libraries directly.\n"
          ]
        },
        {
          "output_type": "execute_result",
          "data": {
            "text/plain": [
              "(1.116550308561137, 13.0)"
            ]
          },
          "metadata": {},
          "execution_count": 20
        }
      ]
    },
    {
      "cell_type": "markdown",
      "source": [
        "From the above results from the `compute_dp_sgd_privacy_statement` we can see that after assuming each record appears once per epoch, the epsilon value is 37.721, while the value of epsilon is 6.999 after assuming poisson sampling. This is because the epsilon value is an estimation assuming a randomly shuffled data.\n",
        "\n",
        "The value has also been calculates using the `compute_dp_sgd_privacy` function and it assumes poisson subsampling but does not accounnt for sensitivity and micro batching which led to its deprecation. The values obtained for the epsilon (privacy guarantee) is 1.1165 and the second number 13 indicates that an example can be included in the training process for a maximum of 13 times.\n",
        "\n",
        "---\n",
        "\n"
      ],
      "metadata": {
        "id": "TCPTZ_PDEZ78"
      }
    },
    {
      "cell_type": "markdown",
      "source": [
        "## Comparing with Non DP NN for performance measures\n"
      ],
      "metadata": {
        "id": "cgK0OvnzAtIK"
      }
    },
    {
      "cell_type": "code",
      "source": [
        "model.compile(loss='mae', optimizer='sgd', metrics=['mae'])"
      ],
      "metadata": {
        "id": "DocJ8e03D_2p"
      },
      "execution_count": 31,
      "outputs": []
    },
    {
      "cell_type": "code",
      "source": [
        "model.fit(X_train, y_train, epochs=10, batch_size=250)\n"
      ],
      "metadata": {
        "colab": {
          "base_uri": "https://localhost:8080/"
        },
        "id": "84tD1li5E2X1",
        "outputId": "ce1fccf6-67b6-4b41-eb84-16ae7c2b2793"
      },
      "execution_count": 32,
      "outputs": [
        {
          "output_type": "stream",
          "name": "stdout",
          "text": [
            "Train on 20595 samples\n",
            "Epoch 1/10\n",
            "20595/20595 [==============================] - 0s 8us/sample - loss: 6.2533 - mean_absolute_error: 6.2533\n",
            "Epoch 2/10\n",
            "20595/20595 [==============================] - 0s 5us/sample - loss: 6.2956 - mean_absolute_error: 6.2956\n",
            "Epoch 3/10\n",
            "20595/20595 [==============================] - 0s 5us/sample - loss: 6.7389 - mean_absolute_error: 6.7389\n",
            "Epoch 4/10\n",
            "20595/20595 [==============================] - 0s 6us/sample - loss: 6.7617 - mean_absolute_error: 6.7617\n",
            "Epoch 5/10\n",
            "20595/20595 [==============================] - 0s 5us/sample - loss: 7.0557 - mean_absolute_error: 7.0557\n",
            "Epoch 6/10\n",
            "20595/20595 [==============================] - 0s 4us/sample - loss: 6.8541 - mean_absolute_error: 6.8541\n",
            "Epoch 7/10\n",
            "20595/20595 [==============================] - 0s 6us/sample - loss: 7.1779 - mean_absolute_error: 7.1779\n",
            "Epoch 8/10\n",
            "20595/20595 [==============================] - 0s 5us/sample - loss: 7.1333 - mean_absolute_error: 7.1333\n",
            "Epoch 9/10\n",
            "20595/20595 [==============================] - 0s 5us/sample - loss: 7.2019 - mean_absolute_error: 7.2019\n",
            "Epoch 10/10\n",
            "20595/20595 [==============================] - 0s 5us/sample - loss: 7.3223 - mean_absolute_error: 7.3223\n"
          ]
        },
        {
          "output_type": "execute_result",
          "data": {
            "text/plain": [
              "<keras.callbacks.History at 0x7f701a19a980>"
            ]
          },
          "metadata": {},
          "execution_count": 32
        }
      ]
    },
    {
      "cell_type": "code",
      "source": [
        "loss_nondp, mae_nondp = model.evaluate(X_test, y_test)\n",
        "\n",
        "# Print the performance measures\n",
        "print(\"Test Loss with no DP:\", loss_nondp)\n",
        "print(\"Test MAE with no DP:\", mae_nondp)"
      ],
      "metadata": {
        "id": "Pm0_HoZ6E5Ra",
        "colab": {
          "base_uri": "https://localhost:8080/"
        },
        "outputId": "b4d07895-6b06-40ef-9dd2-8bf9ff89b512"
      },
      "execution_count": 34,
      "outputs": [
        {
          "output_type": "stream",
          "name": "stdout",
          "text": [
            "Test Loss with no DP: 7.377688575306848\n",
            "Test MAE with no DP: 7.3776884\n"
          ]
        }
      ]
    },
    {
      "cell_type": "code",
      "source": [],
      "metadata": {
        "id": "1zJtfFO_bxCq"
      },
      "execution_count": null,
      "outputs": []
    }
  ]
}